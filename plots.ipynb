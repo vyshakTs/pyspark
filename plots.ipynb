{
 "cells": [
  {
   "cell_type": "code",
   "execution_count": 84,
   "id": "19c9c59a",
   "metadata": {},
   "outputs": [],
   "source": [
    "import os\n",
    "import pandas as pd\n",
    "import numpy as np\n",
    "import matplotlib.pyplot as plt\n",
    "import seaborn as sns"
   ]
  },
  {
   "cell_type": "code",
   "execution_count": 2,
   "id": "47f8ee2a",
   "metadata": {},
   "outputs": [],
   "source": [
    "pd.options.display.max_rows = None\n",
    "pd.options.display.max_columns = None\n",
    "plt.rcParams.update({'figure.max_open_warning': 0})"
   ]
  },
  {
   "cell_type": "code",
   "execution_count": 70,
   "id": "1f8f3ed4",
   "metadata": {},
   "outputs": [],
   "source": [
    "df1 = pd.read_json('json/part-00000-1ca7a3b9-6b8f-4667-96cd-71d4d05affdb-c000.json', lines=True)"
   ]
  },
  {
   "cell_type": "code",
   "execution_count": 71,
   "id": "013fb8a9",
   "metadata": {
    "scrolled": true
   },
   "outputs": [
    {
     "data": {
      "text/html": [
       "<div>\n",
       "<style scoped>\n",
       "    .dataframe tbody tr th:only-of-type {\n",
       "        vertical-align: middle;\n",
       "    }\n",
       "\n",
       "    .dataframe tbody tr th {\n",
       "        vertical-align: top;\n",
       "    }\n",
       "\n",
       "    .dataframe thead th {\n",
       "        text-align: right;\n",
       "    }\n",
       "</style>\n",
       "<table border=\"1\" class=\"dataframe\">\n",
       "  <thead>\n",
       "    <tr style=\"text-align: right;\">\n",
       "      <th></th>\n",
       "      <th>amplitudes</th>\n",
       "      <th>bin_size</th>\n",
       "      <th>channel</th>\n",
       "      <th>current_time</th>\n",
       "      <th>display_type</th>\n",
       "      <th>num_amplitudes</th>\n",
       "      <th>object_type</th>\n",
       "      <th>object_type_version</th>\n",
       "      <th>requestor_id</th>\n",
       "      <th>starting_position</th>\n",
       "      <th>time</th>\n",
       "    </tr>\n",
       "  </thead>\n",
       "  <tbody>\n",
       "    <tr>\n",
       "      <th>0</th>\n",
       "      <td>[0.25754267000000003, 0.23032819000000002, 0.2...</td>\n",
       "      <td>2.041905</td>\n",
       "      <td>2</td>\n",
       "      <td>2020-12-24 12:30:16+05:30</td>\n",
       "      <td>EVENT_DETECTION_VALUE:Stream1</td>\n",
       "      <td>13652</td>\n",
       "      <td>FibreShot</td>\n",
       "      <td>4</td>\n",
       "      <td>4294967295</td>\n",
       "      <td>85.079369</td>\n",
       "      <td>2020-12-24T06:57:49.345Z</td>\n",
       "    </tr>\n",
       "    <tr>\n",
       "      <th>1</th>\n",
       "      <td>[0.41620475, 0.45366934000000003, 0.37738892, ...</td>\n",
       "      <td>2.041905</td>\n",
       "      <td>2</td>\n",
       "      <td>2020-12-24 12:31:11+05:30</td>\n",
       "      <td>EVENT_DETECTION_VALUE:Stream1</td>\n",
       "      <td>13652</td>\n",
       "      <td>FibreShot</td>\n",
       "      <td>4</td>\n",
       "      <td>4294967295</td>\n",
       "      <td>85.079369</td>\n",
       "      <td>2020-12-24T06:58:44.839Z</td>\n",
       "    </tr>\n",
       "  </tbody>\n",
       "</table>\n",
       "</div>"
      ],
      "text/plain": [
       "                                          amplitudes  bin_size  channel  \\\n",
       "0  [0.25754267000000003, 0.23032819000000002, 0.2...  2.041905        2   \n",
       "1  [0.41620475, 0.45366934000000003, 0.37738892, ...  2.041905        2   \n",
       "\n",
       "               current_time                   display_type  num_amplitudes  \\\n",
       "0 2020-12-24 12:30:16+05:30  EVENT_DETECTION_VALUE:Stream1           13652   \n",
       "1 2020-12-24 12:31:11+05:30  EVENT_DETECTION_VALUE:Stream1           13652   \n",
       "\n",
       "  object_type  object_type_version  requestor_id  starting_position  \\\n",
       "0   FibreShot                    4    4294967295          85.079369   \n",
       "1   FibreShot                    4    4294967295          85.079369   \n",
       "\n",
       "                       time  \n",
       "0  2020-12-24T06:57:49.345Z  \n",
       "1  2020-12-24T06:58:44.839Z  "
      ]
     },
     "execution_count": 71,
     "metadata": {},
     "output_type": "execute_result"
    }
   ],
   "source": [
    "df1.head(2)"
   ]
  },
  {
   "cell_type": "code",
   "execution_count": 72,
   "id": "1c08f761",
   "metadata": {},
   "outputs": [],
   "source": [
    "# [i for i in df1.amplitudes[0] if i>5]"
   ]
  },
  {
   "cell_type": "code",
   "execution_count": 87,
   "id": "08a6c4eb",
   "metadata": {},
   "outputs": [],
   "source": [
    "json_files = os.listdir('json')"
   ]
  },
  {
   "cell_type": "code",
   "execution_count": 85,
   "id": "c93c03e8",
   "metadata": {},
   "outputs": [],
   "source": [
    "# df1 = pd.read_json(f'json/'+json_files[0], lines=True)\n",
    "# amplitudes = df1.amplitudes.apply(lambda x: max(x)).values\n",
    "# plt.figure(figsize=(15,7))\n",
    "# plt.title(i.split('.json')[0])\n",
    "# plt.xticks(rotation=90)\n",
    "# plt.tight_layout()\n",
    "# sns.lineplot(x=df1.time, y=amplitudes)\n",
    "# df1.to_csv(f'csv/{i.split(\".json\")[0]}.csv')"
   ]
  },
  {
   "cell_type": "code",
   "execution_count": 100,
   "id": "41bd9ec3",
   "metadata": {
    "scrolled": true
   },
   "outputs": [
    {
     "data": {
      "text/plain": [
       "0       6.599690\n",
       "1      48.331116\n",
       "2     104.288050\n",
       "3      66.836937\n",
       "4      33.257969\n",
       "5       7.340085\n",
       "6      11.934063\n",
       "7      68.312798\n",
       "8      54.467022\n",
       "9      45.887878\n",
       "10      8.326394\n",
       "11      2.809421\n",
       "12     18.525446\n",
       "13     10.692068\n",
       "14     41.803139\n",
       "15     23.579582\n",
       "16     22.696651\n",
       "17     32.995609\n",
       "18     16.093727\n",
       "19    144.933980\n",
       "20     72.628410\n",
       "21     11.819125\n",
       "22    130.028200\n",
       "23     44.480698\n",
       "24     18.549801\n",
       "25     11.324010\n",
       "26      3.622980\n",
       "27     22.487299\n",
       "28      4.907683\n",
       "29      4.411436\n",
       "30     35.727592\n",
       "31    101.129430\n",
       "32     31.320936\n",
       "33      4.920170\n",
       "34     23.130501\n",
       "35      4.110804\n",
       "36      3.984875\n",
       "37      7.331784\n",
       "38     27.584648\n",
       "39      5.665750\n",
       "40     66.499130\n",
       "41      9.041204\n",
       "42    256.586400\n",
       "43     15.108326\n",
       "44    195.405470\n",
       "45    179.362810\n",
       "46     16.697678\n",
       "47      3.955753\n",
       "48      4.984073\n",
       "49     81.687859\n",
       "50     37.555492\n",
       "51      3.672630\n",
       "52      5.779027\n",
       "53     43.453812\n",
       "54     44.095131\n",
       "55    176.509060\n",
       "56     13.236382\n",
       "57    120.690610\n",
       "58      8.079315\n",
       "59      3.190848\n",
       "60      5.222265\n",
       "61     42.807999\n",
       "62      4.699238\n",
       "63     30.571678\n",
       "64     11.868090\n",
       "65      5.703510\n",
       "66     16.478943\n",
       "67      3.139304\n",
       "68      5.314805\n",
       "69      4.860786\n",
       "70     52.047230\n",
       "71     57.574421\n",
       "72     74.897659\n",
       "73     38.909355\n",
       "74      8.486570\n",
       "75     73.811882\n",
       "76      7.201633\n",
       "77      5.308639\n",
       "78     11.400963\n",
       "79     22.711481\n",
       "80      8.388178\n",
       "81     10.951475\n",
       "82    146.527370\n",
       "83      4.137337\n",
       "84      8.301776\n",
       "Name: amplitudes, dtype: float64"
      ]
     },
     "execution_count": 100,
     "metadata": {},
     "output_type": "execute_result"
    }
   ],
   "source": [
    "df1.amplitudes.apply(lambda x: np.max(x))#.max()"
   ]
  },
  {
   "cell_type": "code",
   "execution_count": 106,
   "id": "1f02e688",
   "metadata": {
    "scrolled": true
   },
   "outputs": [
    {
     "name": "stdout",
     "output_type": "stream",
     "text": [
      "MIN= 3.855 \t MAX= 334.857\n",
      "MIN= 1.601 \t MAX= 233.52\n",
      "MIN= 1.899 \t MAX= 315.252\n",
      "MIN= 4.953 \t MAX= 339.595\n",
      "MIN= 2.679 \t MAX= 288.565\n",
      "MIN= 1.679 \t MAX= 513.659\n",
      "MIN= 1.636 \t MAX= 236.881\n",
      "MIN= 1.678 \t MAX= 340.487\n",
      "MIN= 2.803 \t MAX= 410.581\n",
      "MIN= 3.467 \t MAX= 308.969\n",
      "MIN= 1.588 \t MAX= 361.983\n",
      "MIN= 3.448 \t MAX= 338.708\n",
      "MIN= 3.786 \t MAX= 251.871\n",
      "MIN= 2.426 \t MAX= 375.266\n",
      "MIN= 2.638 \t MAX= 97.287\n",
      "MIN= 3.508 \t MAX= 219.713\n",
      "MIN= 2.412 \t MAX= 344.888\n",
      "MIN= 2.118 \t MAX= 262.581\n",
      "MIN= 2.504 \t MAX= 260.464\n",
      "MIN= 2.809 \t MAX= 256.586\n",
      "MIN= 3.464 \t MAX= 336.603\n",
      "MIN= 1.861 \t MAX= 267.816\n",
      "MIN= 1.716 \t MAX= 211.6\n",
      "MIN= 5.141 \t MAX= 367.469\n",
      "MIN= 3.88 \t MAX= 220.857\n",
      "MIN= 2.473 \t MAX= 247.427\n",
      "MIN= 2.154 \t MAX= 241.185\n",
      "MIN= 2.118 \t MAX= 348.539\n",
      "MIN= 3.012 \t MAX= 295.487\n",
      "MIN= 2.806 \t MAX= 183.108\n",
      "MIN= 2.419 \t MAX= 238.14\n",
      "MIN= 2.092 \t MAX= 478.753\n",
      "MIN= 4.055 \t MAX= 266.47\n",
      "MIN= 1.826 \t MAX= 276.703\n",
      "MIN= 2.264 \t MAX= 242.803\n",
      "MIN= 2.198 \t MAX= 262.304\n",
      "MIN= 1.709 \t MAX= 398.181\n",
      "MIN= 2.484 \t MAX= 241.521\n"
     ]
    }
   ],
   "source": [
    "for i in json_files:\n",
    "    if 'chart' not in i:\n",
    "        df = pd.read_json('json/'+i, lines=True)\n",
    "        print('MIN=', round(df.amplitudes.apply(lambda x: np.max(x)).min(), 3), \\\n",
    "              '\\t MAX=', round(df.amplitudes.apply(lambda x: np.max(x)).max(), 3))"
   ]
  },
  {
   "cell_type": "code",
   "execution_count": 110,
   "id": "23d0df39",
   "metadata": {
    "scrolled": true
   },
   "outputs": [
    {
     "data": {
      "text/plain": [
       "(13652, 2.041904687881469)"
      ]
     },
     "execution_count": 110,
     "metadata": {},
     "output_type": "execute_result"
    }
   ],
   "source": [
    "len(df1.amplitudes[0]), df.bin_size.max()"
   ]
  },
  {
   "cell_type": "code",
   "execution_count": 115,
   "id": "2348e7ea",
   "metadata": {},
   "outputs": [
    {
     "data": {
      "text/plain": [
       "27876.082798957814"
      ]
     },
     "execution_count": 115,
     "metadata": {},
     "output_type": "execute_result"
    }
   ],
   "source": [
    "len(df1.amplitudes[0]) * df.bin_size.max()"
   ]
  },
  {
   "cell_type": "code",
   "execution_count": null,
   "id": "83f06e12",
   "metadata": {},
   "outputs": [],
   "source": []
  },
  {
   "cell_type": "code",
   "execution_count": null,
   "id": "83c8a50c",
   "metadata": {},
   "outputs": [],
   "source": []
  },
  {
   "cell_type": "code",
   "execution_count": null,
   "id": "9b7d6771",
   "metadata": {},
   "outputs": [],
   "source": []
  }
 ],
 "metadata": {
  "kernelspec": {
   "display_name": "Python 3 (ipykernel)",
   "language": "python",
   "name": "python3"
  },
  "language_info": {
   "codemirror_mode": {
    "name": "ipython",
    "version": 3
   },
   "file_extension": ".py",
   "mimetype": "text/x-python",
   "name": "python",
   "nbconvert_exporter": "python",
   "pygments_lexer": "ipython3",
   "version": "3.8.10"
  }
 },
 "nbformat": 4,
 "nbformat_minor": 5
}
